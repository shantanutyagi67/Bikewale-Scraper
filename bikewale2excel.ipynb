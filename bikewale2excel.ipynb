{
  "nbformat": 4,
  "nbformat_minor": 0,
  "metadata": {
    "colab": {
      "provenance": [],
      "authorship_tag": "ABX9TyPkJnk9UZUHhRYFkOJbUyor"
    },
    "kernelspec": {
      "name": "python3",
      "display_name": "Python 3"
    },
    "language_info": {
      "name": "python"
    }
  },
  "cells": [
    {
      "cell_type": "code",
      "source": [
        "! apt install firefox  xvfb > /dev/null\n",
        "! pip3 install  pyvirtualdisplay selenium webdriver_manager  > /dev/null"
      ],
      "metadata": {
        "id": "82yqlXto6GRd",
        "colab": {
          "base_uri": "https://localhost:8080/"
        },
        "outputId": "f4584cde-e4ed-480e-e0cb-b074a3b5020a"
      },
      "execution_count": 1,
      "outputs": [
        {
          "output_type": "stream",
          "name": "stdout",
          "text": [
            "\n",
            "WARNING: apt does not have a stable CLI interface. Use with caution in scripts.\n",
            "\n"
          ]
        }
      ]
    },
    {
      "cell_type": "code",
      "source": [
        "from webdriver_manager.firefox import GeckoDriverManager\n",
        "from selenium.webdriver.firefox.service import Service\n",
        "from selenium import webdriver\n",
        "import pandas as pd\n",
        "import numpy as np\n",
        "from selenium.webdriver.support import expected_conditions as EC\n",
        "from selenium.webdriver.common.by import By\n",
        "from selenium.webdriver.support.ui import WebDriverWait"
      ],
      "metadata": {
        "id": "QJmNiD-zhq3S"
      },
      "execution_count": 2,
      "outputs": []
    },
    {
      "cell_type": "code",
      "source": [
        "#column_names = [\"Brand\",\"Model\",\"Ex-showroom\",\"RTO\",\"Insurance\",\"Kits\",\"Total\",\"Speed\",\"CC\",\"Power\",\"Torque\",\"C-ratio\",\"Bore\",\"Stroke\",\"Cylinders\",\"Valves\",\"Cooling\",\"Fuel\",\"capacity\",\"Mileage\",\"Weight\",\"Height\",\"Length\",\"Clearance\",\"Wheelbase\",\"ABS\",\"Rear-brake\",\"Front-brake\",\"Rear-suspension\",\"Front-suspension\",\"Brake-pads\",\"Slipper-clutch\",\"QuickShifter\",\"Warranty\",\"Service-Network\"]\n",
        "#class_names = [\"o-dOKno o-bNCMFw o-cJrNdO\",\"o-dOKno o-bNCMFw o-cJrNdO\",\"notavailable\",\"notavailable\",\"notavailable\",\"notavailable\",\"o-Hyyko o-bPYcRG o-eqqVmt\",\"o-cJrNdO\",\"o-cJrNdO\"]\n",
        "common_url = 'https://www.bikewale.com/'\n",
        "data_class = 'USCqPI'\n",
        "bike_class = 'o-dOKno o-bNCMFw o-cJrNdO'.replace(\" \", \".\")\n",
        "name_class = 'o-zmksK lI0JO_ o-cpnuEd'.replace(\" \", \".\")\n",
        "value_class = 'mLrdoz lI0JO_'.replace(\" \", \".\")\n",
        "price_class = 'o-Hyyko o-bPYcRG o-eqqVmt'.replace(\" \", \".\")\n",
        "#bikessss = [\"ktm-bikes/rc-390/\",\"ktm-bikes/duke-390/\",\"yamaha-bikes/r15/\",\"suzuki-bikes/gixxer-sf-250/\",\"ktm-bikes/rc-200/\",\"ktm-bikes/rc-125/\"]\n",
        "collapsed_sections = [\"(//div[@class='USCqPI']/div[4]/ul/li[1]/div/div[3])\",\"(//div[@class='USCqPI']/div[4]/ul/li[2]/div/div[3])\",\"(//div[@class='USCqPI']/div[4]/ul/li[3]/div/div[3])\",\"(//div[@class='USCqPI']/div[5]/ul/li/div/div[2])\"]\n",
        "bikes = [\"tvs-bikes/apache-rr-310/\",\"bmw-bikes/g-310-r/\",\"zontes-bikes/350r/\",\"ktm-bikes/rc-390/\",\"ktm-bikes/duke-390/\",\"yamaha-bikes/r15/\",\"suzuki-bikes/gixxer-sf-250/\",\"ktm-bikes/rc-200/\",\"ktm-bikes/rc-125/\",\"ktm-bikes/duke-200/\",\"ktm-bikes/duke-125/\",\"royalenfield-bikes/hunter-350/\",\"yamaha-bikes/mt-15/\",\"keeway-bikes/k300-r/\",\"yezdi-bikes/adventure/\",\"yezdi-bikes/roadster/\",\"yezdi-bikes/scrambler/\",\"jawa-bikes/42-bobber/\",\"jawa-bikes/42-fj/\",\"jawa-bikes/perak/\",\"jawa-bikes/350/\",\"jawa-bikes/42/\",\"triumph-bikes/speed-400/\",\"triumph-bikes/scrambler-400/\",\"triumph-bikes/speed-t4/\",\"harleydavidson-bikes/x440/\",\"husqvarna-bikes/vitpilen-250/\",\"husqvarna-bikes/svartpilen-401/\",\"suzuki-bikes/v-strom-sx/\",\"honda-bikes/cb300r/\",\"honda-bikes/cb350rs/\",\"honda-bikes/cb350/\",\"tvs-bikes/apache-rtr-310/\"]\n",
        "results = pd.DataFrame()"
      ],
      "metadata": {
        "id": "YwCLX_PAciSu"
      },
      "execution_count": 169,
      "outputs": []
    },
    {
      "cell_type": "code",
      "source": [
        "options = webdriver.FirefoxOptions()\n",
        "options.add_argument(\"--headless\")\n",
        "browser = webdriver.Firefox(options=options)"
      ],
      "metadata": {
        "id": "rAY2YAWVc2K7"
      },
      "execution_count": 167,
      "outputs": []
    },
    {
      "cell_type": "code",
      "source": [
        "def click_collapsed_div(browser,xpath):\n",
        "  try:\n",
        "    elem = WebDriverWait(browser, 20).until(EC.presence_of_element_located((By.XPATH, xpath)))\n",
        "    try:\n",
        "      browser.implicitly_wait(1)\n",
        "      elem.click()\n",
        "      #print(f\"Clicked on element: {elem}\")\n",
        "    except Exception as e:\n",
        "      print(f\"Error clicking element: {elem}: {e}\")\n",
        "  except Exception as e:\n",
        "    print(f\"Error finding element\")\n",
        "\n",
        "def get_bike_details_selenium(url):\n",
        "  print(f\"fetching URL: {url}\")\n",
        "  browser.get(url)\n",
        "  for collapsed_section in collapsed_sections:\n",
        "    click_collapsed_div(browser,collapsed_section)\n",
        "\n",
        "  bike_details = {}\n",
        "\n",
        "  bike_name = browser.find_element(By.CLASS_NAME, bike_class)\n",
        "  bike_details[\"Brand\"] = bike_name.text.strip().split(\" \")[0]\n",
        "  bike_details[\"Model\"] = bike_name.text.strip()[len(bike_details[\"Brand\"]):]\n",
        "  bike_price = browser.find_element(By.CLASS_NAME, price_class)\n",
        "  bike_details[\"Price\"] = bike_price.text.strip()[2:]\n",
        "  print(\"Expanded collapsed divs\")\n",
        "  print(\"Getting bike details\")\n",
        "  element_names = browser.find_elements(By.CLASS_NAME, name_class)\n",
        "  element_values = browser.find_elements(By.CLASS_NAME, value_class)\n",
        "  #element_values = browser.find_elements(By.XPATH, f\"(//div[@class='{value_class}']/div)\")\n",
        "\n",
        "  for i in range(len(element_names)):\n",
        "    bike_details[element_names[i].get_attribute(\"textContent\")] = element_values[i].get_attribute(\"textContent\")\n",
        "\n",
        "  # for i in range(len(column_names)):\n",
        "  #   try:\n",
        "  #     element = browser.find_element(By.CLASS_NAME, class_names[i].replace(\" \", \".\"))\n",
        "  #     if element:\n",
        "  #       bike_details[column_names[i]] = element.text.strip()\n",
        "  #     else:\n",
        "  #       bike_details[column_names[i]] = np.nan\n",
        "  #   except:\n",
        "  #     pass\n",
        "\n",
        "  return bike_details\n",
        "\n",
        "def find_and_export_bike_data(bikes,results):\n",
        "  print(\"Looking for your bikes!\")\n",
        "  for bike in bikes:\n",
        "    if \"bikewale\" in bike:\n",
        "      url = bike\n",
        "    else:\n",
        "      url = common_url + bike\n",
        "    bike_details = get_bike_details_selenium(url)\n",
        "    bike_data = pd.DataFrame([bike_details]).reset_index(drop=True)\n",
        "    results = pd.concat([results, bike_data], ignore_index=True)\n",
        "    print(f\"Fetched data for {bike}\")\n",
        "\n",
        "  print(\"Done! Exporting to csv\")\n",
        "  results.to_csv(\"bike_data.csv\")\n",
        "  return results\n",
        "\n",
        "\n",
        "find_and_export_bike_data(bikes,results)"
      ],
      "metadata": {
        "colab": {
          "base_uri": "https://localhost:8080/"
        },
        "id": "j4rDvi3jc3Q9",
        "outputId": "fe56c8f2-0c9d-4d48-b1d5-4b129617b584"
      },
      "execution_count": null,
      "outputs": [
        {
          "output_type": "stream",
          "name": "stdout",
          "text": [
            "Looking for your bikes!\n",
            "fetching URL: https://www.bikewale.com/tvs-bikes/apache-rr-310/\n",
            "Expanded collapsed divs\n",
            "Getting bike details\n",
            "Fetched data for tvs-bikes/apache-rr-310/\n",
            "fetching URL: https://www.bikewale.com/bmw-bikes/g-310-r/\n",
            "Error clicking element: <selenium.webdriver.remote.webelement.WebElement (session=\"25f6a143-964c-4ad6-aa5d-ccd9c8dfbbcc\", element=\"6057ba93-5600-4dc9-9b03-9282e61d9a45\")>: Message: The element with the reference 6057ba93-5600-4dc9-9b03-9282e61d9a45 is stale; either its node document is not the active document, or it is no longer connected to the DOM; For documentation on this error, please visit: https://www.selenium.dev/documentation/webdriver/troubleshooting/errors#stale-element-reference-exception\n",
            "Stacktrace:\n",
            "RemoteError@chrome://remote/content/shared/RemoteError.sys.mjs:8:8\n",
            "WebDriverError@chrome://remote/content/shared/webdriver/Errors.sys.mjs:193:5\n",
            "StaleElementReferenceError@chrome://remote/content/shared/webdriver/Errors.sys.mjs:725:5\n",
            "getKnownElement@chrome://remote/content/marionette/json.sys.mjs:405:11\n",
            "deserializeJSON@chrome://remote/content/marionette/json.sys.mjs:263:20\n",
            "cloneObject@chrome://remote/content/marionette/json.sys.mjs:59:24\n",
            "deserializeJSON@chrome://remote/content/marionette/json.sys.mjs:293:16\n",
            "json.deserialize@chrome://remote/content/marionette/json.sys.mjs:297:10\n",
            "receiveMessage@chrome://remote/content/marionette/actors/MarionetteCommandsChild.sys.mjs:73:30\n",
            "\n",
            "Expanded collapsed divs\n",
            "Getting bike details\n",
            "Fetched data for bmw-bikes/g-310-r/\n",
            "fetching URL: https://www.bikewale.com/zontes-bikes/350r/\n",
            "Expanded collapsed divs\n",
            "Getting bike details\n",
            "Fetched data for zontes-bikes/350r/\n",
            "fetching URL: https://www.bikewale.com/ktm-bikes/rc-390/\n",
            "Error clicking element: <selenium.webdriver.remote.webelement.WebElement (session=\"25f6a143-964c-4ad6-aa5d-ccd9c8dfbbcc\", element=\"7a010ea5-aa0a-407e-b37d-8b711465ada9\")>: Message: The element with the reference 7a010ea5-aa0a-407e-b37d-8b711465ada9 is stale; either its node document is not the active document, or it is no longer connected to the DOM; For documentation on this error, please visit: https://www.selenium.dev/documentation/webdriver/troubleshooting/errors#stale-element-reference-exception\n",
            "Stacktrace:\n",
            "RemoteError@chrome://remote/content/shared/RemoteError.sys.mjs:8:8\n",
            "WebDriverError@chrome://remote/content/shared/webdriver/Errors.sys.mjs:193:5\n",
            "StaleElementReferenceError@chrome://remote/content/shared/webdriver/Errors.sys.mjs:725:5\n",
            "getKnownElement@chrome://remote/content/marionette/json.sys.mjs:405:11\n",
            "deserializeJSON@chrome://remote/content/marionette/json.sys.mjs:263:20\n",
            "cloneObject@chrome://remote/content/marionette/json.sys.mjs:59:24\n",
            "deserializeJSON@chrome://remote/content/marionette/json.sys.mjs:293:16\n",
            "json.deserialize@chrome://remote/content/marionette/json.sys.mjs:297:10\n",
            "receiveMessage@chrome://remote/content/marionette/actors/MarionetteCommandsChild.sys.mjs:73:30\n",
            "\n",
            "Expanded collapsed divs\n",
            "Getting bike details\n",
            "Fetched data for ktm-bikes/rc-390/\n",
            "fetching URL: https://www.bikewale.com/ktm-bikes/duke-390/\n",
            "Error clicking element: <selenium.webdriver.remote.webelement.WebElement (session=\"25f6a143-964c-4ad6-aa5d-ccd9c8dfbbcc\", element=\"7b846254-10f9-4ff8-a96a-01bd1b0b4720\")>: Message: The element with the reference 7b846254-10f9-4ff8-a96a-01bd1b0b4720 is stale; either its node document is not the active document, or it is no longer connected to the DOM; For documentation on this error, please visit: https://www.selenium.dev/documentation/webdriver/troubleshooting/errors#stale-element-reference-exception\n",
            "Stacktrace:\n",
            "RemoteError@chrome://remote/content/shared/RemoteError.sys.mjs:8:8\n",
            "WebDriverError@chrome://remote/content/shared/webdriver/Errors.sys.mjs:193:5\n",
            "StaleElementReferenceError@chrome://remote/content/shared/webdriver/Errors.sys.mjs:725:5\n",
            "getKnownElement@chrome://remote/content/marionette/json.sys.mjs:405:11\n",
            "deserializeJSON@chrome://remote/content/marionette/json.sys.mjs:263:20\n",
            "cloneObject@chrome://remote/content/marionette/json.sys.mjs:59:24\n",
            "deserializeJSON@chrome://remote/content/marionette/json.sys.mjs:293:16\n",
            "json.deserialize@chrome://remote/content/marionette/json.sys.mjs:297:10\n",
            "receiveMessage@chrome://remote/content/marionette/actors/MarionetteCommandsChild.sys.mjs:73:30\n",
            "\n",
            "Expanded collapsed divs\n",
            "Getting bike details\n",
            "Fetched data for ktm-bikes/duke-390/\n",
            "fetching URL: https://www.bikewale.com/yamaha-bikes/r15/\n",
            "Expanded collapsed divs\n",
            "Getting bike details\n",
            "Fetched data for yamaha-bikes/r15/\n",
            "fetching URL: https://www.bikewale.com/suzuki-bikes/gixxer-sf-250/\n",
            "Error clicking element: <selenium.webdriver.remote.webelement.WebElement (session=\"25f6a143-964c-4ad6-aa5d-ccd9c8dfbbcc\", element=\"db7d41d8-da0f-4efd-b105-967958761ac9\")>: Message: The element with the reference db7d41d8-da0f-4efd-b105-967958761ac9 is stale; either its node document is not the active document, or it is no longer connected to the DOM; For documentation on this error, please visit: https://www.selenium.dev/documentation/webdriver/troubleshooting/errors#stale-element-reference-exception\n",
            "Stacktrace:\n",
            "RemoteError@chrome://remote/content/shared/RemoteError.sys.mjs:8:8\n",
            "WebDriverError@chrome://remote/content/shared/webdriver/Errors.sys.mjs:193:5\n",
            "StaleElementReferenceError@chrome://remote/content/shared/webdriver/Errors.sys.mjs:725:5\n",
            "getKnownElement@chrome://remote/content/marionette/json.sys.mjs:405:11\n",
            "deserializeJSON@chrome://remote/content/marionette/json.sys.mjs:263:20\n",
            "cloneObject@chrome://remote/content/marionette/json.sys.mjs:59:24\n",
            "deserializeJSON@chrome://remote/content/marionette/json.sys.mjs:293:16\n",
            "json.deserialize@chrome://remote/content/marionette/json.sys.mjs:297:10\n",
            "receiveMessage@chrome://remote/content/marionette/actors/MarionetteCommandsChild.sys.mjs:73:30\n",
            "\n",
            "Expanded collapsed divs\n",
            "Getting bike details\n",
            "Fetched data for suzuki-bikes/gixxer-sf-250/\n",
            "fetching URL: https://www.bikewale.com/ktm-bikes/rc-200/\n",
            "Expanded collapsed divs\n",
            "Getting bike details\n",
            "Fetched data for ktm-bikes/rc-200/\n",
            "fetching URL: https://www.bikewale.com/ktm-bikes/rc-125/\n",
            "Error clicking element: <selenium.webdriver.remote.webelement.WebElement (session=\"25f6a143-964c-4ad6-aa5d-ccd9c8dfbbcc\", element=\"5219a667-baa7-4f19-9124-312df7797036\")>: Message: The element with the reference 5219a667-baa7-4f19-9124-312df7797036 is stale; either its node document is not the active document, or it is no longer connected to the DOM; For documentation on this error, please visit: https://www.selenium.dev/documentation/webdriver/troubleshooting/errors#stale-element-reference-exception\n",
            "Stacktrace:\n",
            "RemoteError@chrome://remote/content/shared/RemoteError.sys.mjs:8:8\n",
            "WebDriverError@chrome://remote/content/shared/webdriver/Errors.sys.mjs:193:5\n",
            "StaleElementReferenceError@chrome://remote/content/shared/webdriver/Errors.sys.mjs:725:5\n",
            "getKnownElement@chrome://remote/content/marionette/json.sys.mjs:405:11\n",
            "deserializeJSON@chrome://remote/content/marionette/json.sys.mjs:263:20\n",
            "cloneObject@chrome://remote/content/marionette/json.sys.mjs:59:24\n",
            "deserializeJSON@chrome://remote/content/marionette/json.sys.mjs:293:16\n",
            "json.deserialize@chrome://remote/content/marionette/json.sys.mjs:297:10\n",
            "receiveMessage@chrome://remote/content/marionette/actors/MarionetteCommandsChild.sys.mjs:73:30\n",
            "\n",
            "Expanded collapsed divs\n",
            "Getting bike details\n",
            "Fetched data for ktm-bikes/rc-125/\n",
            "fetching URL: https://www.bikewale.com/ktm-bikes/duke-200/\n",
            "Expanded collapsed divs\n",
            "Getting bike details\n",
            "Fetched data for ktm-bikes/duke-200/\n",
            "fetching URL: https://www.bikewale.com/ktm-bikes/duke-125/\n",
            "Expanded collapsed divs\n",
            "Getting bike details\n",
            "Fetched data for ktm-bikes/duke-125/\n",
            "fetching URL: https://www.bikewale.com/royalenfield-bikes/hunter-350/\n",
            "Error clicking element: <selenium.webdriver.remote.webelement.WebElement (session=\"25f6a143-964c-4ad6-aa5d-ccd9c8dfbbcc\", element=\"338016f9-e3fc-40d6-9a7a-43fdcb197bba\")>: Message: The element with the reference 338016f9-e3fc-40d6-9a7a-43fdcb197bba is stale; either its node document is not the active document, or it is no longer connected to the DOM; For documentation on this error, please visit: https://www.selenium.dev/documentation/webdriver/troubleshooting/errors#stale-element-reference-exception\n",
            "Stacktrace:\n",
            "RemoteError@chrome://remote/content/shared/RemoteError.sys.mjs:8:8\n",
            "WebDriverError@chrome://remote/content/shared/webdriver/Errors.sys.mjs:193:5\n",
            "StaleElementReferenceError@chrome://remote/content/shared/webdriver/Errors.sys.mjs:725:5\n",
            "getKnownElement@chrome://remote/content/marionette/json.sys.mjs:405:11\n",
            "deserializeJSON@chrome://remote/content/marionette/json.sys.mjs:263:20\n",
            "cloneObject@chrome://remote/content/marionette/json.sys.mjs:59:24\n",
            "deserializeJSON@chrome://remote/content/marionette/json.sys.mjs:293:16\n",
            "json.deserialize@chrome://remote/content/marionette/json.sys.mjs:297:10\n",
            "receiveMessage@chrome://remote/content/marionette/actors/MarionetteCommandsChild.sys.mjs:73:30\n",
            "\n",
            "Expanded collapsed divs\n",
            "Getting bike details\n",
            "Fetched data for royalenfield-bikes/hunter-350/\n",
            "fetching URL: https://www.bikewale.com/yamaha-bikes/mt-15/\n",
            "Expanded collapsed divs\n",
            "Getting bike details\n",
            "Fetched data for yamaha-bikes/mt-15/\n",
            "fetching URL: https://www.bikewale.com/keeway-bikes/k300-r/\n",
            "Expanded collapsed divs\n",
            "Getting bike details\n",
            "Fetched data for keeway-bikes/k300-r/\n",
            "fetching URL: https://www.bikewale.com/yezdi-bikes/adventure/\n"
          ]
        }
      ]
    },
    {
      "cell_type": "code",
      "source": [
        "results.to_csv(\"bike_data.csv\")"
      ],
      "metadata": {
        "id": "VKej0hqxsyMb"
      },
      "execution_count": 160,
      "outputs": []
    },
    {
      "cell_type": "code",
      "source": [
        "browser.get(common_url + bikes[0])\n",
        "for collapsed_section in collapsed_sections:\n",
        "    click_collapsed_div(browser,collapsed_section)"
      ],
      "metadata": {
        "colab": {
          "base_uri": "https://localhost:8080/"
        },
        "id": "kerIVD3O_uiL",
        "outputId": "7478aac6-56ae-437b-8c1b-1750a1a3ada9"
      },
      "execution_count": 137,
      "outputs": [
        {
          "output_type": "stream",
          "name": "stdout",
          "text": [
            "Clicked on element: <selenium.webdriver.remote.webelement.WebElement (session=\"0cf90c09-5609-4676-a812-6b9dd7b183d4\", element=\"8ba9b4b6-67f0-46f7-8324-4ac14228facc\")>\n",
            "Clicked on element: <selenium.webdriver.remote.webelement.WebElement (session=\"0cf90c09-5609-4676-a812-6b9dd7b183d4\", element=\"88d62935-6edc-471b-804d-3ab77e2ca5e8\")>\n",
            "Clicked on element: <selenium.webdriver.remote.webelement.WebElement (session=\"0cf90c09-5609-4676-a812-6b9dd7b183d4\", element=\"bf5bf6af-4805-465a-920d-1f9662257546\")>\n",
            "Clicked on element: <selenium.webdriver.remote.webelement.WebElement (session=\"0cf90c09-5609-4676-a812-6b9dd7b183d4\", element=\"55a353e3-a279-4ec8-a84d-c16418dc1af7\")>\n"
          ]
        }
      ]
    },
    {
      "cell_type": "code",
      "source": [
        "element_names = browser.find_elements(By.CLASS_NAME, name_class.replace(\" \", \".\"))\n",
        "element_values = browser.find_elements(By.CLASS_NAME, value_class.replace(\" \", \".\"))"
      ],
      "metadata": {
        "id": "YsGsqpTqi5Sk"
      },
      "execution_count": 110,
      "outputs": []
    },
    {
      "cell_type": "code",
      "source": [
        "element_names = browser.find_elements(By.CLASS_NAME, name_class)\n",
        "element_values = browser.find_elements(By.XPATH, f\"(//div[@class='{value_class}'])\")"
      ],
      "metadata": {
        "id": "HShWMj68wRhq"
      },
      "execution_count": 92,
      "outputs": []
    },
    {
      "cell_type": "code",
      "source": [
        "len(element_names)"
      ],
      "metadata": {
        "colab": {
          "base_uri": "https://localhost:8080/"
        },
        "id": "UHppTFfmi88G",
        "outputId": "4180f2aa-c882-4fa1-c4d5-c4edff3c8aba"
      },
      "execution_count": 111,
      "outputs": [
        {
          "output_type": "execute_result",
          "data": {
            "text/plain": [
              "101"
            ]
          },
          "metadata": {},
          "execution_count": 111
        }
      ]
    },
    {
      "cell_type": "code",
      "source": [
        "len(element_values)"
      ],
      "metadata": {
        "colab": {
          "base_uri": "https://localhost:8080/"
        },
        "id": "J3A4exRSwbZL",
        "outputId": "b940c224-1310-44d7-83d3-7b88caf73aca"
      },
      "execution_count": 112,
      "outputs": [
        {
          "output_type": "execute_result",
          "data": {
            "text/plain": [
              "101"
            ]
          },
          "metadata": {},
          "execution_count": 112
        }
      ]
    },
    {
      "cell_type": "code",
      "source": [
        "element_values = browser.find_elements(By.CLASS_NAME, value_class)"
      ],
      "metadata": {
        "id": "iPEz_96ZweLo"
      },
      "execution_count": 70,
      "outputs": []
    },
    {
      "cell_type": "code",
      "source": [
        "element_values[38].text.strip()"
      ],
      "metadata": {
        "colab": {
          "base_uri": "https://localhost:8080/",
          "height": 35
        },
        "id": "0BZBRpt6xwwb",
        "outputId": "40d501fe-4c44-4bed-ac36-b46f0c012e93"
      },
      "execution_count": 91,
      "outputs": [
        {
          "output_type": "execute_result",
          "data": {
            "text/plain": [
              "'33 psi'"
            ],
            "application/vnd.google.colaboratory.intrinsic+json": {
              "type": "string"
            }
          },
          "metadata": {},
          "execution_count": 91
        }
      ]
    },
    {
      "cell_type": "code",
      "source": [
        "element_names[38].text.strip()"
      ],
      "metadata": {
        "colab": {
          "base_uri": "https://localhost:8080/",
          "height": 35
        },
        "id": "K4tzfmylxyDt",
        "outputId": "37b6fb5a-181e-46a8-e966-a23211d7ba21"
      },
      "execution_count": 90,
      "outputs": [
        {
          "output_type": "execute_result",
          "data": {
            "text/plain": [
              "'Rear Tyre Pressure (Rider)'"
            ],
            "application/vnd.google.colaboratory.intrinsic+json": {
              "type": "string"
            }
          },
          "metadata": {},
          "execution_count": 90
        }
      ]
    },
    {
      "cell_type": "code",
      "source": [
        "value_class = \".mLrdoz.lI0JO_\"\n",
        "name_class = \".o-zmksK.lI0JO_.o-cpnuEd\"\n",
        "xpath = \"(//*[@class='\"+value_class+\"'])\"\n",
        "res = browser.find_elements(By.CSS_SELECTOR, value_class)\n",
        "names = browser.find_elements(By.CSS_SELECTOR, name_class)\n",
        "for i in range(len(res)):\n",
        "  print(names[i].get_attribute(\"textContent\") +\" : \"+res[i].get_attribute(\"textContent\"))"
      ],
      "metadata": {
        "colab": {
          "base_uri": "https://localhost:8080/"
        },
        "id": "pOXtEP1EyIY-",
        "outputId": "3278037c-5691-480a-aadd-5e8712254bdc"
      },
      "execution_count": 147,
      "outputs": [
        {
          "output_type": "stream",
          "name": "stdout",
          "text": [
            "Displacement : 155 cc\n",
            "Max Power : 18.1 bhp @ 10000 rpm \n",
            "Max Torque : 14.2 Nm @ 7500 rpm \n",
            "Mileage - ARAI : 51.4 kmpl\n",
            "Mileage - Owner Reported : 45 kmpl\n",
            "Riding Range : 495 km\n",
            "Top Speed : 140 kmph\n",
            "Riding Modes : Track and Street \n",
            "Transmission : 6 Speed Manual \n",
            "Gear Shifting Pattern : 1 Down 5 Up \n",
            "Cylinders : 1 \n",
            "Bore : 58 mm\n",
            "Stroke : 58.7 mm\n",
            "Valves Per Cylinder : 4 \n",
            "Compression Ratio : 11.6 : 1 \n",
            "Spark Plugs : 1 Per Cylinder\n",
            "Cooling System : Liquid Cooled \n",
            "Clutch : Assist And Slipper Clutch \n",
            "Fuel Tank Capacity : 11 litres\n",
            "Reserve Fuel Capacity : 1.76 litres\n",
            "Emission Standard : BS6 Phase 2 \n",
            "Fuel Type : Petrol \n",
            "Front Suspension : Upside Down Front Forks \n",
            "Rear Suspension : Linked-Type Monocross Suspension \n",
            "Braking System : Dual Channel ABS \n",
            "Front Brake Type : Disc \n",
            "Front Brake Size : 282 mm\n",
            "Caliper - Front : 2 Piston\n",
            "Rear Brake Type : Disc \n",
            "Rear Brake Size : 220 mm\n",
            "Caliper - Rear : 1 Piston\n",
            "Wheel Type : Alloy \n",
            "Front Wheel Size : 17 inch\n",
            "Rear Wheel Size : 17 inch\n",
            "Front Tyre Size : 100/80 - 17 \n",
            "Rear Tyre Size : 140/70 - R17 \n",
            "Tyre Type : Tubeless \n",
            "Front Tyre Pressure (Rider) : 29 psi\n",
            "Rear Tyre Pressure (Rider) : 33 psi\n",
            "Front Tyre Pressure (Rider & Pillion) : 29 psi\n",
            "Rear Tyre Pressure (Rider & Pillion) : 33 psi\n",
            "Kerb Weight : 141 kg\n",
            "Seat Height : 815 mm\n",
            "Ground Clearance : 170 mm\n",
            "Overall Length : 1990 mm\n",
            "Overall Width : 725 mm\n",
            "Overall Height : 1135 mm\n",
            "Wheelbase : 1325 mm\n",
            "Chassis Type : Deltabox \n",
            "Standard Warranty : 2 year\n",
            "Standard Warranty : 30000 km\n",
            "1st Service : 1000 Kms/30 Days \n",
            "2nd Service : 5000 Kms/150 Days \n",
            "3rd Service : 9000 Kms/270 Days \n",
            "4th Service : 13000 Kms/390 Days \n",
            "Touch Screen Display : No \n",
            "Instrument Console : Digital \n",
            "Odometer : Digital \n",
            "Speedometer : Digital \n",
            "Fuel Gauge : Digital \n",
            "Hazard Warning Indicator : Yes \n",
            "Average Speed : No \n",
            "OTA Updates : Not Available \n",
            "Call/SMS Alerts : Yes \n",
            "Geo Fencing : No \n",
            "Distance to Empty : No \n",
            "Tachometer : Digital \n",
            "Stand Alarm : Yes \n",
            "No. of Tripmeters : 2 \n",
            "Tripmeter Type : Digital \n",
            "Gear Indicator : Yes \n",
            "Low Fuel Indicator : Yes \n",
            "Low Oil Indicator : Yes \n",
            "Low Battery Indicator : No \n",
            "Clock : Yes \n",
            "Service Reminder Indicator : No \n",
            "Battery : 12V, 4.0Ah \n",
            "Front Storage Box : No \n",
            "Under Seat Storage (Litres) : No \n",
            "Mobile Phone Connectivity : Yes \n",
            "DRLs (Daytime Running Lights) : Yes \n",
            "AHO (Automatic Headlight On) : Yes \n",
            "Shift Light : Yes \n",
            "Headlight Type : LED \n",
            "Brake/Tail Light : LED \n",
            "Turn Signal : LED \n",
            "Pass Light : Yes \n",
            "GPS & Navigation : No \n",
            "USB Charging Port : Optional \n",
            "Traction Control : Yes \n",
            "Cruise Control : No \n",
            "Hazard Warning Lights : Yes \n",
            "Start Type : Electric Start \n",
            "Kill Switch : Yes \n",
            "Pillion Backrest : No \n",
            "Pillion Grab Rail : Yes \n",
            "Pillion Seat : Stepped Seat \n",
            "Pillion Footrest : Yes \n",
            "Front Suspension Preload Adjuster : No \n",
            "Rear Suspension Preload Adjuster : Yes \n",
            "Additional Features : TFT Display \n"
          ]
        }
      ]
    },
    {
      "cell_type": "code",
      "source": [
        "len(res)"
      ],
      "metadata": {
        "colab": {
          "base_uri": "https://localhost:8080/"
        },
        "id": "pKLbbPp20SUw",
        "outputId": "87f7dbbe-a5b1-41b8-8257-37f7b1a0ab60"
      },
      "execution_count": 128,
      "outputs": [
        {
          "output_type": "execute_result",
          "data": {
            "text/plain": [
              "0"
            ]
          },
          "metadata": {},
          "execution_count": 128
        }
      ]
    },
    {
      "cell_type": "code",
      "source": [
        "names[4].get_dom_attribute(\"class\")"
      ],
      "metadata": {
        "colab": {
          "base_uri": "https://localhost:8080/",
          "height": 35
        },
        "id": "ybFo_GbS5AuO",
        "outputId": "d358c4f7-2c51-4272-a606-5679d73fca58"
      },
      "execution_count": 144,
      "outputs": [
        {
          "output_type": "execute_result",
          "data": {
            "text/plain": [
              "'o-zmksK lI0JO_ o-cpnuEd'"
            ],
            "application/vnd.google.colaboratory.intrinsic+json": {
              "type": "string"
            }
          },
          "metadata": {},
          "execution_count": 144
        }
      ]
    },
    {
      "cell_type": "code",
      "source": [
        "# prompt: get text attribute from dom\n",
        "\n",
        "names[3].get_attribute(\"textContent\")"
      ],
      "metadata": {
        "colab": {
          "base_uri": "https://localhost:8080/",
          "height": 35
        },
        "id": "wgpeEji57-rH",
        "outputId": "39b1637e-5a1c-475a-9278-d007c0fda08d"
      },
      "execution_count": 146,
      "outputs": [
        {
          "output_type": "execute_result",
          "data": {
            "text/plain": [
              "'Mileage - ARAI'"
            ],
            "application/vnd.google.colaboratory.intrinsic+json": {
              "type": "string"
            }
          },
          "metadata": {},
          "execution_count": 146
        }
      ]
    },
    {
      "cell_type": "code",
      "source": [],
      "metadata": {
        "id": "E6uD-B-Q8U8S"
      },
      "execution_count": null,
      "outputs": []
    }
  ]
}